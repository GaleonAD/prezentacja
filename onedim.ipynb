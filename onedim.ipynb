{
 "cells": [
  {
   "cell_type": "markdown",
   "metadata": {},
   "source": [
    "# Notebook do jednowymiarowej symulacji FDTD"
   ]
  },
  {
   "cell_type": "markdown",
   "metadata": {},
   "source": [
    "Importowanie bibliotek"
   ]
  },
  {
   "cell_type": "code",
   "execution_count": null,
   "metadata": {},
   "outputs": [],
   "source": [
    "%matplotlib notebook\n",
    "import matplotlib.pyplot as plt\n",
    "from matplotlib.animation import FuncAnimation\n",
    "\n",
    "import numpy as np"
   ]
  },
  {
   "cell_type": "markdown",
   "metadata": {},
   "source": [
    "Ustalamy stałe: $\\epsilon_0$ i $\\mu_0$. W celu weryfikacji obliczamy prędkość światła $c$."
   ]
  },
  {
   "cell_type": "code",
   "execution_count": null,
   "metadata": {},
   "outputs": [],
   "source": [
    "epsilon0 = 625000/(22468879468420441*np.pi) \n",
    "mu0 = np.pi/2500000\n",
    "c = 1/np.sqrt(epsilon0*mu0)\n",
    "c"
   ]
  },
  {
   "cell_type": "markdown",
   "metadata": {},
   "source": [
    "Definiiujemy parametry siatki: \n",
    "- długość przewodu $l$\n",
    "- krok siatki $dx$\n",
    "- krok czasowy $dt$\n",
    "\n",
    "Na ich podstawie ustawiamy wielkość siatki: $nx$\n"
   ]
  },
  {
   "cell_type": "code",
   "execution_count": null,
   "metadata": {
    "scrolled": true
   },
   "outputs": [],
   "source": [
    "l = 500 # m\n",
    "dx = 1  #m\n",
    "dt = 10e-10 # s\n",
    "nx = int(l/dx)\n",
    "nx"
   ]
  },
  {
   "cell_type": "markdown",
   "metadata": {},
   "source": [
    "Sprawdzamy warunek zbieżności"
   ]
  },
  {
   "cell_type": "code",
   "execution_count": null,
   "metadata": {},
   "outputs": [],
   "source": [
    "dx/dt > c"
   ]
  },
  {
   "cell_type": "markdown",
   "metadata": {},
   "source": [
    "Alokacja siatki na $E_z$ oraz $H_y$, a także wartości $\\sigma$"
   ]
  },
  {
   "cell_type": "code",
   "execution_count": null,
   "metadata": {},
   "outputs": [],
   "source": [
    "ez = np.zeros(nx)\n",
    "hy = np.zeros(nx)\n",
    "\n",
    "sigma = 0.00001 * np.ones(nx)\n",
    "\n",
    "L = 50\n",
    "for i in range(L):\n",
    "    sigma[i] = 1\n",
    "    sigma[nx-i-1] = 1\n",
    "\n",
    "\n",
    "#L = 50\n",
    "#for i in range(L):\n",
    "#    sigma[i] *= np.exp((L-i)/10)\n",
    "#    sigma[nx-i-1] *= np.exp((L-i)/10)\n"
   ]
  },
  {
   "cell_type": "code",
   "execution_count": null,
   "metadata": {},
   "outputs": [],
   "source": [
    "x = np.linspace(0, 1, nx)\n",
    "plt.plot(x,sigma)\n",
    "plt.show()"
   ]
  },
  {
   "cell_type": "markdown",
   "metadata": {},
   "source": [
    "Usjalamy źródło w postaci sinusoidy jednostkowej"
   ]
  },
  {
   "cell_type": "code",
   "execution_count": null,
   "metadata": {},
   "outputs": [],
   "source": [
    "p = int(nx/2)\n",
    "\n",
    "def source(time):\n",
    "    p = int(nx/2)\n",
    "    return p, np.sin(2 * np.pi * (0 - 0.005 * time))"
   ]
  },
  {
   "cell_type": "markdown",
   "metadata": {},
   "source": [
    "Zmienne pomocnicze usprawniające obliczenia (stałe w czasie współczynniki obliczamy raz, a nie za każdym razem)"
   ]
  },
  {
   "cell_type": "code",
   "execution_count": null,
   "metadata": {},
   "outputs": [],
   "source": [
    "coef_e_loss = [ (epsilon0 - sigma[i]*dt/2)/(epsilon0 + sigma[i]*dt/2) for i in range(nx) ]\n",
    "coef_e_step = [ dt/(dx*(epsilon0 + sigma[i]*dt/2)) for i in range(nx) ]\n",
    "coef_h_step = [ dt/(dx*mu0) for i in range(nx) ]\n",
    "coef_j = [ dt/(epsilon0 + sigma[i]*dt/2) for i in range(nx) ]"
   ]
  },
  {
   "cell_type": "code",
   "execution_count": null,
   "metadata": {},
   "outputs": [],
   "source": [
    "coef_e_loss[3]"
   ]
  },
  {
   "cell_type": "code",
   "execution_count": null,
   "metadata": {},
   "outputs": [],
   "source": [
    "coef_e_step[3]"
   ]
  },
  {
   "cell_type": "code",
   "execution_count": null,
   "metadata": {},
   "outputs": [],
   "source": [
    "coef_h_step[3]"
   ]
  },
  {
   "cell_type": "markdown",
   "metadata": {},
   "source": [
    "Funkcje pomocnicze wykonujące kroki symulacji. Warunki brzegowe ustalamy jako zerowe pole."
   ]
  },
  {
   "cell_type": "code",
   "execution_count": null,
   "metadata": {},
   "outputs": [],
   "source": [
    "#@jit(nopython=True)\n",
    "def e_interior_update():\n",
    "    for i in range(1,nx-1):\n",
    "        ez[i] = coef_e_loss[i]*ez[i] + coef_e_step[i]*(hy[i]-hy[i-1])\n",
    "        \n",
    "#@jit(nopython=True)\n",
    "def h_interior_update():\n",
    "    for i in range(1,nx-1):\n",
    "        hy[i] = hy[i] + coef_h_step[i]*(ez[i+1]-ez[i])\n",
    "        \n",
    "#@jit(nopython=True)\n",
    "#def e_current_apply(ez, coeff, j):\n",
    "#    for jt in j:\n",
    "#        ez[jt[0]] = ez[jt[0]] - coeff[jt[0]] * jt[1]\n",
    "        \n",
    "def e_boundary_conditions():\n",
    "    #ez[0] = ez[-1]\n",
    "    pass\n",
    "    \n",
    "def h_boundary_conditions():\n",
    "    #hy[0] = hy[-1]\n",
    "    pass\n",
    "\n",
    "def e_source(time):\n",
    "    point, val = source(t)\n",
    "    if point is not None:\n",
    "        ez[point] = val\n",
    "        ez[point-1] = 0.8*val\n",
    "        ez[point+1] = 0.8*val\n",
    "            "
   ]
  },
  {
   "cell_type": "code",
   "execution_count": null,
   "metadata": {
    "scrolled": true
   },
   "outputs": [],
   "source": [
    "# create figure and axes \n",
    "fig, (ax1, ax2) = plt.subplots(2, figsize=(8, 4))\n",
    "ax1.plot([0.9, 0.9], [-2, 2], 'k-')\n",
    "ax1.plot([0.1, 0.1], [-2, 2], 'k-')\n",
    "ax2.plot([0.9, 0.9], [-2, 2], 'k-')\n",
    "ax2.plot([0.1, 0.1], [-2, 2], 'k-')\n",
    "\n",
    "# creating our line objects for the plots\n",
    "ezplot, = ax1.plot(x, ez, '-b')\n",
    "hyplot, = ax2.plot(x, hy, '-r')\n",
    "\n",
    "def animate(t):\n",
    "    \"\"\"\n",
    "    funkcja wywoływana przez animacje w celu obliczenia kolejnego kroku symulacji\n",
    "    \n",
    "    t: czas\n",
    "    \n",
    "    return:\n",
    "        ezplot: ydata\n",
    "        hyplot: ydata\n",
    "    \"\"\"\n",
    "    \n",
    "    for i in range(1):\n",
    "        e_interior_update()\n",
    "        #e_boundary_conditions()\n",
    "        ez[p]= source(t)[1]\n",
    "\n",
    "        h_interior_update()\n",
    "        #h_boundary_conditions()\n",
    "    \n",
    "    ezplot.set_ydata(ez)\n",
    "    hyplot.set_ydata(hy)\n",
    "\n",
    "\n",
    "def init():\n",
    "    \"\"\"\n",
    "    initialize the figure\n",
    "    \"\"\"\n",
    "    \n",
    "    ax1.set_ylim(-1, 1)\n",
    "    ax2.set_ylim(-0.005, 0.005)\n",
    "\n",
    "    ax1.set_xlim(0, 1)\n",
    "    ax2.set_xlim(0, 1)\n",
    "    ax1.axhline(0, color='black', lw=1)\n",
    "    ax2.axhline(0, color='black', lw=1)\n",
    "    plt.rcParams.update({'font.size':14})\n",
    "    \n",
    "    return ezplot, hyplot,\n",
    "\n",
    "ani = FuncAnimation(fig, animate, init_func=init, interval=50, blit=True)\n",
    "plt.show()"
   ]
  },
  {
   "cell_type": "code",
   "execution_count": null,
   "metadata": {},
   "outputs": [],
   "source": []
  },
  {
   "cell_type": "code",
   "execution_count": null,
   "metadata": {},
   "outputs": [],
   "source": []
  }
 ],
 "metadata": {
  "kernelspec": {
   "display_name": "Python 3",
   "language": "python",
   "name": "python3"
  },
  "language_info": {
   "codemirror_mode": {
    "name": "ipython",
    "version": 3
   },
   "file_extension": ".py",
   "mimetype": "text/x-python",
   "name": "python",
   "nbconvert_exporter": "python",
   "pygments_lexer": "ipython3",
   "version": "3.5.2"
  }
 },
 "nbformat": 4,
 "nbformat_minor": 2
}
